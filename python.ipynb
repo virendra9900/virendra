{
  "nbformat": 4,
  "nbformat_minor": 0,
  "metadata": {
    "colab": {
      "provenance": []
    },
    "kernelspec": {
      "name": "python3",
      "display_name": "Python 3"
    },
    "language_info": {
      "name": "python"
    }
  },
  "cells": [
    {
      "cell_type": "markdown",
      "source": [
        "#python theory\n",
        "\n",
        "\n"
      ],
      "metadata": {
        "id": "QtjsxwqWFV-2"
      }
    },
    {
      "cell_type": "markdown",
      "source": [
        "1. What is python,and why is popuar\n",
        "\n",
        "  \"Anwser: Python is an interpreted, high-level programming language that is simple and easy to read. It is widely used because of its simple syntax, flexibility, and vast libraries, making it suitable for web development, data analysis, artificial intelligence, automation, and many more. Its popularity stems from its extensive community and versatility of applications.\"\n",
        "\n"
      ],
      "metadata": {
        "id": "9rFXnFs0FYwm"
      }
    },
    {
      "cell_type": "markdown",
      "source": [
        "2.what is an interpreter in python?\n",
        "\n",
        "   \"Answer: An interpreter in Python is a program running on a computer that executes Python code line by line and interprets it into machine code. It allows for immediate code execution, and therefore Python is an interpreted language.\"\n"
      ],
      "metadata": {
        "id": "QEWMG_hDNh9J"
      }
    },
    {
      "cell_type": "markdown",
      "source": [
        "3.what are pre-defined keywords in python?\n",
        "\n",
        "\n",
        "  \"Answer: In Python, predefined keywords are reserved words that carry specific meanings and are utilized to specify the syntax and structure of the language. These keywords cannot be used as variable names. Some of the prominent examples are \\\"if\\\", \\\"else\\\", \\\"while\\\", \\\"for\\\", \\\"def\\\", \\\"class\\\", \\\"import\\\", \\\"True\\\", \\\"False\\\", \\\"None\\\", and \\\"return\\\". These keywords manage control flow, specify functions, manage exceptions, and do a lot more.\""
      ],
      "metadata": {
        "id": "GCkD9dPhOkH9"
      }
    },
    {
      "cell_type": "markdown",
      "source": [
        "4.Can keywords be used as variable names?\n",
        "\n",
        "   \"Answer: No, keywords cannot be used as variable names in Python. They are reserved words with special meanings that define the languageâ€™s syntax and structure. Using them as variable names will result in a syntax error.\"\n"
      ],
      "metadata": {
        "id": "b7UZ_44APVTy"
      }
    },
    {
      "cell_type": "markdown",
      "source": [
        "5.What is mutability in Python?\n",
        "    \n",
        "  \"Answer: Mutability in Python refers to whether an objectâ€™s value can be changed after creation. Mutable objects (e.g., lists, dictionaries, sets) can be modified, while immutable objects (e.g., strings, tuples, integers) cannot be altered once created.\""
      ],
      "metadata": {
        "id": "Wa9y4rxkPkuJ"
      }
    },
    {
      "cell_type": "markdown",
      "source": [
        "6.Why are lists mutable, but tuples are immutable?\n",
        "\n",
        "   \"Answer: Lists are mutable because they are designed for dynamic data, allowing modifications like adding, removing, or changing elements. Tuples are immutable to ensure data integrity and allow for hashable keys in dictionaries, making them more memory-efficient and faster.\"\n",
        "   "
      ],
      "metadata": {
        "id": "EUnpvkqYPzSA"
      }
    },
    {
      "cell_type": "markdown",
      "source": [
        "7.What is the difference between â€œ==â€ and â€œisâ€ operators in Python?\n",
        "\n",
        "   \"Answer: The \\\"==\\\" operator checks if values of two objects are equal, while the \\\"is\\\" operator checks if they refer to the same memory location (identity).\"\n",
        "\n",
        "   "
      ],
      "metadata": {
        "id": "FpMBkMBPQJi2"
      }
    },
    {
      "cell_type": "markdown",
      "source": [
        "\n",
        "   8.What are logical operators in Python?\n",
        "\n",
        "      Answer: Logical operators in Python are used to combine conditional statements. They include:  \n",
        "      - **and**: Returns 'True' if both conditions are true.  \n",
        "      - **or**: Returns 'True' if at least one condition is true.  \n",
        "      - **not**: Returns 'True' if the condition is false, and vice versa.  \n",
        "      These operators are commonly used in decision-making and control flow.\n",
        "\n",
        "   "
      ],
      "metadata": {
        "id": "k6PuCZ5oQdgo"
      }
    },
    {
      "cell_type": "markdown",
      "source": [
        "9.What is type casting in Python?\n",
        "\n",
        "  Answer: Type casting in Python is the process of converting one data type into another. It can be done using functions like int(), float(), str(), list(), and tuple(). For example, int(\"10\") converts the string \"10\" into an integer."
      ],
      "metadata": {
        "id": "4GtnixssSMec"
      }
    },
    {
      "cell_type": "markdown",
      "source": [
        "10.What is the difference between implicit and explicit type casting?\n",
        "\n",
        "   Answer: Implicit type casting is done automatically by Python, where it converts a smaller data type to a larger one (e.g., int to float) to avoid data loss.\n",
        "   Explicit type casting is manually done by the programmer using functions like int(), float(), or str() to convert between data types."
      ],
      "metadata": {
        "id": "7evTpWD5SebF"
      }
    },
    {
      "cell_type": "markdown",
      "source": [
        "11.What is the purpose of conditional statements in Python?\n",
        "\n",
        "  Answer: Conditional statements in Python are used to execute specific code blocks based on whether a condition is true or false. They control the flow of the program using if, elif, and else statements."
      ],
      "metadata": {
        "id": "gxWr776IlUqo"
      }
    },
    {
      "cell_type": "markdown",
      "source": [
        "12. How does the elif statement work?\n",
        "\n",
        "    Answer: The elif statement in Python is used to check multiple conditions after an if statement. If the if condition is False, Python checks the elif condition. If it’s True, the corresponding block executes. Multiple elif statements can be used, and an optional else can handle cases when none are True."
      ],
      "metadata": {
        "id": "HVcazCKJllrf"
      }
    },
    {
      "cell_type": "markdown",
      "source": [
        "13.What is the difference between for and while loops?\n",
        "\n",
        "  Answer: A **for loop** is used for iterating over a sequence (e.g., list, tuple, string) and runs a fixed number of times.\n",
        "\n",
        "   A **while loop** executes as long as a condition is true, making it suitable for indeterminate iterations."
      ],
      "metadata": {
        "id": "Z-1Bwkq-l7dK"
      }
    },
    {
      "cell_type": "markdown",
      "source": [
        "14.Describe a scenario where a while loop is more suitable than a for loop.\n",
        "\n",
        "   Answer: A **while loop** is more suitable when the number of iterations is unknown beforehand. For example, reading user input until they enter a valid value or processing data until a condition is met."
      ],
      "metadata": {
        "id": "OY_qR7lcm1rn"
      }
    },
    {
      "cell_type": "markdown",
      "source": [
        "## **Practical Questions**"
      ],
      "metadata": {
        "id": "PaWSop18nQNJ"
      }
    },
    {
      "cell_type": "code",
      "source": [
        "#1.Write a Python program to print \"Hello, World!\n",
        "\n",
        "print(\"Hello, World!\")"
      ],
      "metadata": {
        "colab": {
          "base_uri": "https://localhost:8080/"
        },
        "id": "7PDduCWYphqU",
        "outputId": "05efb4b2-8715-4430-ab1a-1d8052b6261c"
      },
      "execution_count": null,
      "outputs": [
        {
          "output_type": "stream",
          "name": "stdout",
          "text": [
            "Hello, World!\n"
          ]
        }
      ]
    },
    {
      "cell_type": "code",
      "source": [
        "#2.Write a Python program that displays your name and age.\n",
        "\n",
        "name = \"Manojit Mazinder Barua\"\n",
        "age = 35\n",
        "\n",
        "print(\"My name is\", name)\n",
        "print(\"My age is\", age)"
      ],
      "metadata": {
        "colab": {
          "base_uri": "https://localhost:8080/"
        },
        "id": "d3osTVygptDD",
        "outputId": "0ec11eea-ae68-4fe1-b50f-fd29a896362a"
      },
      "execution_count": null,
      "outputs": [
        {
          "output_type": "stream",
          "name": "stdout",
          "text": [
            "My name is Manojit Mazinder Barua\n",
            "My age is 35\n"
          ]
        }
      ]
    },
    {
      "cell_type": "code",
      "source": [
        "#3.Write code to print all the pre-defined keywords in Python using the keyword library.\n",
        "\n",
        "import keyword\n",
        "\n",
        "# Get the list of all keywords\n",
        "python_keywords = keyword.kwlist\n",
        "\n",
        "# Print each keyword\n",
        "print(python_keywords)\n",
        "\n"
      ],
      "metadata": {
        "colab": {
          "base_uri": "https://localhost:8080/"
        },
        "id": "aZRwb3u3pwa7",
        "outputId": "1cf24ba6-e991-4f90-b2de-79f3121a3b38"
      },
      "execution_count": null,
      "outputs": [
        {
          "output_type": "stream",
          "name": "stdout",
          "text": [
            "['False', 'None', 'True', 'and', 'as', 'assert', 'async', 'await', 'break', 'class', 'continue', 'def', 'del', 'elif', 'else', 'except', 'finally', 'for', 'from', 'global', 'if', 'import', 'in', 'is', 'lambda', 'nonlocal', 'not', 'or', 'pass', 'raise', 'return', 'try', 'while', 'with', 'yield']\n"
          ]
        }
      ]
    },
    {
      "cell_type": "code",
      "source": [
        "#4.Write a program that checks if a given word is a Python keyword.\n",
        "\n",
        "# Import the keyword library\n",
        "import keyword\n",
        "\n",
        "# Get user input\n",
        "word = input(\"Enter a word: \")\n",
        "\n",
        "# Check if the word is a Python keyword\n",
        "if keyword.iskeyword(word):\n",
        "    print(f\"'{word}' is a Python keyword.\")\n",
        "else:\n",
        "    print(f\"'{word}' is NOT a Python keyword.\")\n"
      ],
      "metadata": {
        "id": "q36o3Ol1qDtX",
        "colab": {
          "base_uri": "https://localhost:8080/"
        },
        "outputId": "0c9741d9-fa3b-42b8-95fc-1943067d7cba"
      },
      "execution_count": 5,
      "outputs": [
        {
          "output_type": "stream",
          "name": "stdout",
          "text": [
            "Enter a word: hi\n",
            "'hi' is NOT a Python keyword.\n"
          ]
        }
      ]
    },
    {
      "cell_type": "code",
      "source": [
        "#5. Create a list and tuple in Python, and demonstrate how attempting to change an element works differently for each.\n",
        "\n",
        "# Create a list\n",
        "my_list = [1, 2, 3, 4]\n",
        "\n",
        "# Create a tuple\n",
        "my_tuple = (1, 2, 3, 4)\n",
        "\n",
        "# Print the list and tuple\n",
        "print(my_list)\n",
        "print(my_tuple)\n",
        "\n",
        "# Attempt to change the second element (index 1) in the list\n",
        "my_list[1] = 100\n",
        "print(my_list)  # This works because lists are mutable\n",
        "\n",
        "# Attempt to change the second element (index 1) in the tuple\n",
        "try:\n",
        "    my_tuple[1] = 100  # This will raise an error because tuples are immutable\n",
        "except TypeError as e:\n",
        "    print(\"Error\", e)\n",
        "\n"
      ],
      "metadata": {
        "id": "uv9GKoSLqLIT",
        "colab": {
          "base_uri": "https://localhost:8080/"
        },
        "outputId": "b4ed90c5-e17f-4eae-efa7-cfaacc2b2af9"
      },
      "execution_count": 6,
      "outputs": [
        {
          "output_type": "stream",
          "name": "stdout",
          "text": [
            "[1, 2, 3, 4]\n",
            "(1, 2, 3, 4)\n",
            "[1, 100, 3, 4]\n",
            "Error 'tuple' object does not support item assignment\n"
          ]
        }
      ]
    },
    {
      "cell_type": "code",
      "source": [
        "#6. Write a function to demonstrate the behavior of mutable and immutable arguments.\n",
        "\n",
        "# Function to demonstrate mutable and immutable arguments\n",
        "def demonstrate_mutable_immutable(mutable_list, immutable_int):\n",
        "    # Modify mutable list\n",
        "    mutable_list.append(4)\n",
        "    print(\"Inside function (list):\", mutable_list)\n",
        "\n",
        "    # Try to modify immutable integer\n",
        "    immutable_int += 10\n",
        "    print(\"Inside function (int):\", immutable_int)\n",
        "\n",
        "# Initialize mutable and immutable arguments\n",
        "my_list = [1, 2, 3]   # Mutable (list)\n",
        "my_int = 5             # Immutable (int)\n",
        "\n",
        "# Call the function\n",
        "print(\"Before function call:\")\n",
        "print(\"List:\", my_list)\n",
        "print(\"Int:\", my_int)\n",
        "\n",
        "demonstrate_mutable_immutable(my_list, my_int)\n",
        "\n",
        "# Check values after function call\n",
        "print(\"\\nAfter function call:\")\n",
        "print(\"List:\", my_list)  # List is modified\n",
        "print(\"Int:\", my_int)    # Int remains unchanged\n"
      ],
      "metadata": {
        "id": "xWIVuQTnqZlt",
        "colab": {
          "base_uri": "https://localhost:8080/"
        },
        "outputId": "6e4fd8aa-88c0-437b-ccd5-713e855ba523"
      },
      "execution_count": null,
      "outputs": [
        {
          "output_type": "stream",
          "name": "stdout",
          "text": [
            "Before function call:\n",
            "List: [1, 2, 3]\n",
            "Int: 5\n",
            "Inside function (list): [1, 2, 3, 4]\n",
            "Inside function (int): 15\n",
            "\n",
            "After function call:\n",
            "List: [1, 2, 3, 4]\n",
            "Int: 5\n"
          ]
        }
      ]
    },
    {
      "cell_type": "code",
      "source": [
        "#7. Write a function to demonstrate the behavior of mutable and immutable arguments.\n",
        "\n",
        "# Function to demonstrate mutable and immutable arguments\n",
        "def demonstrate_args(mutable_list, immutable_str):\n",
        "    # Modify the mutable list\n",
        "    mutable_list.append(\"new item\")\n",
        "    print(\"Inside function (list):\", mutable_list)\n",
        "\n",
        "    # Try to modify the immutable string\n",
        "    immutable_str += \" updated\"\n",
        "    print(\"Inside function (string):\", immutable_str)\n",
        "\n",
        "# Initialize mutable and immutable arguments\n",
        "my_list = [\"apple\", \"banana\", \"cherry\"]  # Mutable (list)\n",
        "my_str = \"Hello\"                          # Immutable (string)\n",
        "\n",
        "# Call the function\n",
        "print(\"Before function call:\")\n",
        "print(\"List:\", my_list)\n",
        "print(\"String:\", my_str)\n",
        "\n",
        "demonstrate_args(my_list, my_str)\n",
        "\n",
        "# Check values after function call\n",
        "print(\"\\nAfter function call:\")\n",
        "print(\"List:\", my_list)    # List is modified\n",
        "print(\"String:\", my_str)   # String remains unchanged\n"
      ],
      "metadata": {
        "id": "2Na9lYAeqh48",
        "colab": {
          "base_uri": "https://localhost:8080/"
        },
        "outputId": "2ec61ef1-5957-43bf-88e8-dd3f3f4dfa71"
      },
      "execution_count": 15,
      "outputs": [
        {
          "output_type": "stream",
          "name": "stdout",
          "text": [
            "Before function call:\n",
            "List: ['apple', 'banana', 'cherry']\n",
            "String: Hello\n",
            "Inside function (list): ['apple', 'banana', 'cherry', 'new item']\n",
            "Inside function (string): Hello updated\n",
            "\n",
            "After function call:\n",
            "List: ['apple', 'banana', 'cherry', 'new item']\n",
            "String: Hello\n"
          ]
        }
      ]
    },
    {
      "cell_type": "code",
      "source": [
        "#8. Write a program to demonstrate the use of logical operators.\n",
        "\n",
        "# Program to demonstrate the use of logical operators\n",
        "\n",
        "# Input values\n",
        "x = int(input(\"Enter first number: \"))\n",
        "y = int(input(\"Enter second number: \"))\n",
        "\n",
        "# Using logical operators\n",
        "print(\"\\nLogical Operator Results:\")\n",
        "print(f\"x > 0 and y > 0: {x > 0 and y > 0}\")    # Both must be true\n",
        "print(f\"x > 0 or y > 0: {x > 0 or y > 0}\")      # At least one must be true\n",
        "print(f\"not (x > 0): {not (x > 0)}\")            # Negates the condition\n"
      ],
      "metadata": {
        "id": "Xp33lUtBquWy",
        "colab": {
          "base_uri": "https://localhost:8080/"
        },
        "outputId": "890b8024-b5e3-49b4-ff91-0bd225f22646"
      },
      "execution_count": 14,
      "outputs": [
        {
          "output_type": "stream",
          "name": "stdout",
          "text": [
            "Enter first number: 4\n",
            "Enter second number: 6\n",
            "\n",
            "Logical Operator Results:\n",
            "x > 0 and y > 0: True\n",
            "x > 0 or y > 0: True\n",
            "not (x > 0): False\n"
          ]
        }
      ]
    },
    {
      "cell_type": "code",
      "source": [
        "#9. Write a Python program to convert user input from string to integer, float, and boolean types.\n",
        "\n",
        "# Program to convert user input to integer, float, and boolean using a for loop\n",
        "\n",
        "# Get user input as a string\n",
        "user_input = input(\"Enter a value: \")\n",
        "\n",
        "# List of conversion functions\n",
        "conversions = [int, float, bool]\n",
        "\n",
        "# Loop through each conversion\n",
        "for convert in conversions:\n",
        "    try:\n",
        "        result = convert(user_input)\n",
        "        print(f\"{convert.__name__.capitalize()}:\", result)\n",
        "    except ValueError:\n",
        "        print(f\"Cannot convert to {convert.__name__}.\")\n"
      ],
      "metadata": {
        "id": "vYLotpJ4q-Vx",
        "colab": {
          "base_uri": "https://localhost:8080/"
        },
        "outputId": "51e9c7f7-dbb7-4d04-e93d-141f0bf8216f"
      },
      "execution_count": 13,
      "outputs": [
        {
          "output_type": "stream",
          "name": "stdout",
          "text": [
            "Enter a value: 2\n",
            "Int: 2\n",
            "Float: 2.0\n",
            "Bool: True\n"
          ]
        }
      ]
    },
    {
      "cell_type": "code",
      "source": [
        "#10. Write code to demonstrate type casting with list elements.\n",
        "\n",
        "# Program to demonstrate type casting with list elements\n",
        "\n",
        "# List with mixed data types (string representations of numbers)\n",
        "data = [\"10\", \"20.5\", \"30\", \"True\", \"False\"]\n",
        "\n",
        "# Empty lists to store converted values\n",
        "int_list = []\n",
        "float_list = []\n",
        "bool_list = []\n",
        "\n",
        "# Type casting using for loop\n",
        "for item in data:\n",
        "    # Convert to int if possible\n",
        "    try:\n",
        "        int_list.append(int(item))\n",
        "    except ValueError:\n",
        "        pass\n",
        "\n",
        "    # Convert to float if possible\n",
        "    try:\n",
        "        float_list.append(float(item))\n",
        "    except ValueError:\n",
        "        pass\n",
        "\n",
        "    # Convert to boolean\n",
        "    bool_list.append(bool(item))\n",
        "\n",
        "# Display the results\n",
        "print(\"Original List:\", data)\n",
        "print(\"Integer List:\", int_list)\n",
        "print(\"Float List:\", float_list)\n",
        "print(\"Boolean List:\", bool_list)\n"
      ],
      "metadata": {
        "id": "N2Q5cAhgq95v",
        "colab": {
          "base_uri": "https://localhost:8080/"
        },
        "outputId": "5bcef5dd-a8af-4f67-b894-78e1edb7dc47"
      },
      "execution_count": 12,
      "outputs": [
        {
          "output_type": "stream",
          "name": "stdout",
          "text": [
            "Original List: ['10', '20.5', '30', 'True', 'False']\n",
            "Integer List: [10, 30]\n",
            "Float List: [10.0, 20.5, 30.0]\n",
            "Boolean List: [True, True, True, True, True]\n"
          ]
        }
      ]
    },
    {
      "cell_type": "code",
      "source": [
        "#11. Write a program that checks if a number is positive, negative, or zero.\n",
        "\n",
        "# Program to check if a number is positive, negative, or zero\n",
        "\n",
        "# Get user input\n",
        "num = float(input(\"Enter a number: \"))\n",
        "\n",
        "# Check the number's sign\n",
        "if num > 0:\n",
        "    print(\"The number is positive.\")\n",
        "elif num < 0:\n",
        "    print(\"The number is negative.\")\n",
        "else:\n",
        "    print(\"The number is zero.\")\n"
      ],
      "metadata": {
        "id": "0oOMXdt4rOk2",
        "colab": {
          "base_uri": "https://localhost:8080/"
        },
        "outputId": "537f46a3-71dd-452a-a39e-21b1be19ab87"
      },
      "execution_count": 11,
      "outputs": [
        {
          "output_type": "stream",
          "name": "stdout",
          "text": [
            "Enter a number: 6\n",
            "The number is positive.\n"
          ]
        }
      ]
    },
    {
      "cell_type": "code",
      "source": [
        "#12. Write a for loop to print numbers from 1 to 100.\n",
        "\n",
        "# For loop to print numbers from 1 to 100\n",
        "for num in range(1, 101):\n",
        "    print(num)\n"
      ],
      "metadata": {
        "id": "znqiOMMorTWH",
        "colab": {
          "base_uri": "https://localhost:8080/"
        },
        "outputId": "58eae1c7-e8d4-427e-8269-ad0bef3adad4"
      },
      "execution_count": 10,
      "outputs": [
        {
          "output_type": "stream",
          "name": "stdout",
          "text": [
            "1\n",
            "2\n",
            "3\n",
            "4\n",
            "5\n",
            "6\n",
            "7\n",
            "8\n",
            "9\n",
            "10\n",
            "11\n",
            "12\n",
            "13\n",
            "14\n",
            "15\n",
            "16\n",
            "17\n",
            "18\n",
            "19\n",
            "20\n",
            "21\n",
            "22\n",
            "23\n",
            "24\n",
            "25\n",
            "26\n",
            "27\n",
            "28\n",
            "29\n",
            "30\n",
            "31\n",
            "32\n",
            "33\n",
            "34\n",
            "35\n",
            "36\n",
            "37\n",
            "38\n",
            "39\n",
            "40\n",
            "41\n",
            "42\n",
            "43\n",
            "44\n",
            "45\n",
            "46\n",
            "47\n",
            "48\n",
            "49\n",
            "50\n",
            "51\n",
            "52\n",
            "53\n",
            "54\n",
            "55\n",
            "56\n",
            "57\n",
            "58\n",
            "59\n",
            "60\n",
            "61\n",
            "62\n",
            "63\n",
            "64\n",
            "65\n",
            "66\n",
            "67\n",
            "68\n",
            "69\n",
            "70\n",
            "71\n",
            "72\n",
            "73\n",
            "74\n",
            "75\n",
            "76\n",
            "77\n",
            "78\n",
            "79\n",
            "80\n",
            "81\n",
            "82\n",
            "83\n",
            "84\n",
            "85\n",
            "86\n",
            "87\n",
            "88\n",
            "89\n",
            "90\n",
            "91\n",
            "92\n",
            "93\n",
            "94\n",
            "95\n",
            "96\n",
            "97\n",
            "98\n",
            "99\n",
            "100\n"
          ]
        }
      ]
    },
    {
      "cell_type": "code",
      "source": [
        "#13. Write a Python program to find the sum of all even numbers between 1 and 500.\n",
        "\n",
        "# Program to find the sum of all even numbers between 1 and 500\n",
        "\n",
        "# Initialize sum variable\n",
        "total = 0\n",
        "\n",
        "# Loop through even numbers from 1 to 500\n",
        "for num in range(2, 501, 2):  # Start at 2, step by 2\n",
        "    total += num\n",
        "\n",
        "# Display the result\n",
        "print(\"Sum of all even numbers between 1 and 500:\", total)"
      ],
      "metadata": {
        "id": "yUXSE1hgrgyk",
        "colab": {
          "base_uri": "https://localhost:8080/"
        },
        "outputId": "b6bd313f-eb80-469d-f7c4-066ad1897eac"
      },
      "execution_count": 7,
      "outputs": [
        {
          "output_type": "stream",
          "name": "stdout",
          "text": [
            "Sum of all even numbers between 1 and 500: 62750\n"
          ]
        }
      ]
    },
    {
      "cell_type": "code",
      "source": [
        "#14. Write a program to reverse a string using a while loop.\n",
        "\n",
        "# Program to reverse a string using a while loop\n",
        "\n",
        "# Get user input\n",
        "text = input(\"Enter a string: \")\n",
        "\n",
        "# Initialize variables\n",
        "reversed_str = \"\"\n",
        "index = len(text) - 1\n",
        "\n",
        "# While loop to reverse the string\n",
        "while index >= 0:\n",
        "    reversed_str += text[index]\n",
        "    index -= 1\n",
        "\n",
        "# Display the reversed string\n",
        "print(\"Reversed string:\", reversed_str)"
      ],
      "metadata": {
        "id": "wtcYEClsrpWw",
        "colab": {
          "base_uri": "https://localhost:8080/"
        },
        "outputId": "42abef1f-c30b-4ff2-efde-2b62151839d1"
      },
      "execution_count": 8,
      "outputs": [
        {
          "output_type": "stream",
          "name": "stdout",
          "text": [
            "Enter a string: helo\n",
            "Reversed string: oleh\n"
          ]
        }
      ]
    },
    {
      "cell_type": "code",
      "source": [
        "#15. Write a Python program to calculate the factorial of a number provided by the user using a while loop.\n",
        "\n",
        "# Program to calculate the factorial of a number using a while loop\n",
        "\n",
        "# Get user input\n",
        "num = int(input(\"Enter a positive integer: \"))\n",
        "\n",
        "# Initialize variables\n",
        "factorial = 1\n",
        "i = num\n",
        "\n",
        "# While loop to calculate factorial\n",
        "while i > 0:\n",
        "    factorial *= i\n",
        "    i -= 1\n",
        "\n",
        "# Display the result\n",
        "print(f\"Factorial of {num} is:\", factorial)"
      ],
      "metadata": {
        "id": "mx8Cx9RvrvdF",
        "colab": {
          "base_uri": "https://localhost:8080/"
        },
        "outputId": "34b2759a-c03f-4435-a028-0fe925801be2"
      },
      "execution_count": 9,
      "outputs": [
        {
          "output_type": "stream",
          "name": "stdout",
          "text": [
            "Enter a positive integer: 2\n",
            "Factorial of 2 is: 2\n"
          ]
        }
      ]
    }
  ]
}